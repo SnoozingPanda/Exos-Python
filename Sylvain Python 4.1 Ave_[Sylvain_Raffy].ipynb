{
  "nbformat": 4,
  "nbformat_minor": 0,
  "metadata": {
    "colab": {
      "provenance": [],
      "collapsed_sections": [
        "e4lVH9FuKTae",
        "i8dqkG4eFQ_A",
        "N_-saIAUFYM9"
      ]
    },
    "kernelspec": {
      "name": "python3",
      "display_name": "Python 3"
    },
    "language_info": {
      "name": "python"
    }
  },
  "cells": [
    {
      "cell_type": "code",
      "execution_count": null,
      "metadata": {
        "id": "mw3PPLmSdz25"
      },
      "outputs": [],
      "source": [
        "#Dans ce challenge il faut déchiffrer un message.\n",
        "#Dans la phrase à modifier ci-dessous, les lettres normales ont été remplacées par la 7ème lettre suivante (h remplace a, i remplace b etc)\n",
        "#Crée une fonction qui prend en paramètre un message sous forme de liste ou de chaine de caractère, et affiche le message correctement (décrypté)\n",
        "#Voici le message à décrypter : mlspjpahapvuz, jlzhy zlyhpa mply kl avp, zp zlbsltlua ps jvuuhpzzhpa wfaovu"
      ]
    },
    {
      "cell_type": "markdown",
      "source": [
        "# Ma solution"
      ],
      "metadata": {
        "id": "ymhW3hd6FI5-"
      }
    },
    {
      "cell_type": "code",
      "source": [
        "def cesar_code(texte, cle):\n",
        "  reponse = \"\"\n",
        "\n",
        "  for i in range(len(texte)):                     # une boucle for = la base\n",
        "    lettre = texte[i]                             # récupérer l'indice de chaque lettre\n",
        "    if lettre == \" \":                             # obligé de gérer les caractères qui NE SONT PAS des lettres\n",
        "      reponse += \" \"\n",
        "    elif lettre == \",\":                           # idem\n",
        "      reponse += \",\"\n",
        "    else:\n",
        "      reponse += chr(ord(lettre) - cle)           # là je galère => l'idée est d'encoder chaque lettre mais c'est un principe que je comprends pas bien\n",
        "\n",
        "  return reponse\n",
        "\n",
        "texte = \"mlspjpahapvuz, jlzhy zlyhpa mply kl avp, zp zlbsltlua ps jvuuhpzzhpa wfaovu\"\n",
        "cle = 7\n",
        "nouveau_texte = cesar_code(texte, cle)\n",
        "print(nouveau_texte)\n"
      ],
      "metadata": {
        "colab": {
          "base_uri": "https://localhost:8080/"
        },
        "id": "XGXQZ0VMpDsW",
        "outputId": "61e15ab5-1acb-41a6-ecd7-78e2e5c17de5"
      },
      "execution_count": 35,
      "outputs": [
        {
          "output_type": "stream",
          "name": "stdout",
          "text": [
            "feliciZaZions, cesar seraiZ fier de Zoi, si se[lemenZ il connaissaiZ p_Zhon\n"
          ]
        }
      ]
    },
    {
      "cell_type": "markdown",
      "source": [
        "Du coup c'est pas mal mais c'est pas top => mauvais encodage\n",
        "\n",
        "(mais bon ça va on comprend la phrase :p)"
      ],
      "metadata": {
        "id": "IkJlhHy9JApg"
      }
    },
    {
      "cell_type": "markdown",
      "source": [
        "# Petit récap sur l'encodage avec les fonctions ord et chr"
      ],
      "metadata": {
        "id": "e4lVH9FuKTae"
      }
    },
    {
      "cell_type": "markdown",
      "source": [
        "Python ord() and chr() are built-in functions. They are used to convert a character to an int and vice versa. Python ord() and chr() functions are exactly opposite of each other\n",
        "\n",
        "Python ord() function takes string argument of a single Unicode character and return its integer Unicode code point value\n",
        "\n",
        "Python chr() function takes integer argument and return the string representing a character at that code point"
      ],
      "metadata": {
        "id": "4CjxPVhDKSrF"
      }
    },
    {
      "cell_type": "code",
      "source": [
        "print(ord('t'))\n",
        "print(chr(116))"
      ],
      "metadata": {
        "colab": {
          "base_uri": "https://localhost:8080/"
        },
        "id": "JURJ2avJJ9Gr",
        "outputId": "aaa70167-8d19-4a58-fd08-3598aea673da"
      },
      "execution_count": 39,
      "outputs": [
        {
          "output_type": "stream",
          "name": "stdout",
          "text": [
            "116\n",
            "t\n"
          ]
        }
      ]
    },
    {
      "cell_type": "markdown",
      "source": [
        "# Solution qui fonctionne (trouvée via Google)"
      ],
      "metadata": {
        "id": "i8dqkG4eFQ_A"
      }
    },
    {
      "cell_type": "code",
      "source": [
        "def encrypt_text(plaintext,n):\n",
        "    ans = \"\"\n",
        "    # iterate over the given text\n",
        "    for i in range(len(plaintext)):\n",
        "        ch = plaintext[i]\n",
        "\n",
        "        # check if space is there then simply add space\n",
        "        if ch==\" \":\n",
        "            ans+=\" \"\n",
        "        # check if \",\" is there then simply add \",\"\n",
        "        elif ch==\",\":\n",
        "            ans+=\",\"\n",
        "        # check if a character is uppercase then encrypt it accordingly\n",
        "        elif (ch.isupper()):\n",
        "            ans += chr((ord(ch) + n-65) % 26 + 65)\n",
        "        # check if a character is lowercase then encrypt it accordingly\n",
        "        else:\n",
        "            ans += chr((ord(ch) + n-97) % 26 + 97)\n",
        "\n",
        "    return ans\n",
        "\n",
        "plaintext = \"mlspjpahapvuz, jlzhy zlyhpa mply kl avp, zp zlbsltlua ps jvuuhpzzhpa wfaovu\"\n",
        "n = -7\n",
        "print(\"Plain Text is : \" + plaintext)\n",
        "print(\"Shift pattern is : \" + str(n))\n",
        "print(\"Cipher Text is : \" + encrypt_text(plaintext,n))"
      ],
      "metadata": {
        "colab": {
          "base_uri": "https://localhost:8080/"
        },
        "id": "ixoRLpu9DGMM",
        "outputId": "79ae1f08-e069-43f8-a71b-791a0a931805"
      },
      "execution_count": 25,
      "outputs": [
        {
          "output_type": "stream",
          "name": "stdout",
          "text": [
            "Plain Text is : mlspjpahapvuz, jlzhy zlyhpa mply kl avp, zp zlbsltlua ps jvuuhpzzhpa wfaovu\n",
            "Shift pattern is : -7\n",
            "Cipher Text is : felicitations, cesar serait fier de toi, si seulement il connaissait python\n"
          ]
        }
      ]
    },
    {
      "cell_type": "markdown",
      "source": [
        "J'étais pas si mal mais il gère mieux l'encryptage (et lui il a des \"t\" à la place des \"Z\")"
      ],
      "metadata": {
        "id": "K4xXK5HQHkfu"
      }
    },
    {
      "cell_type": "markdown",
      "source": [
        "# Autre solution trouvée sur Google (apparemment sur un site de hacker hum hum)"
      ],
      "metadata": {
        "id": "N_-saIAUFYM9"
      }
    },
    {
      "cell_type": "code",
      "source": [
        "message = 'mlspjpahapvuz, jlzhy zlyhpa mply kl avp, zp zlbsltlua ps jvuuhpzzhpa wfaovu' #encrypted message\n",
        "Letters = 'abcdefghijklmnopqrstuvwxyz'\n",
        "\n",
        "for key in range(len(Letters)):\n",
        "   translated = ''\n",
        "   for ch in message:\n",
        "      if ch in Letters:\n",
        "         num = Letters.find(ch)\n",
        "         num = num - key\n",
        "         if num < 0:\n",
        "            num = num + len(Letters)\n",
        "         translated = translated + Letters[num]\n",
        "      else:\n",
        "         translated = translated + ch\n",
        "   print('Hacking key is %s: %s' % (key, translated))"
      ],
      "metadata": {
        "colab": {
          "base_uri": "https://localhost:8080/"
        },
        "id": "cXfvN5CKEzQ7",
        "outputId": "5025e8df-f65d-4d1b-ac98-45e5e623c2b2"
      },
      "execution_count": 26,
      "outputs": [
        {
          "output_type": "stream",
          "name": "stdout",
          "text": [
            "Hacking key is 0: mlspjpahapvuz, jlzhy zlyhpa mply kl avp, zp zlbsltlua ps jvuuhpzzhpa wfaovu\n",
            "Hacking key is 1: lkroiozgzouty, ikygx ykxgoz lokx jk zuo, yo ykarksktz or iuttgoyygoz veznut\n",
            "Hacking key is 2: kjqnhnyfyntsx, hjxfw xjwfny knjw ij ytn, xn xjzqjrjsy nq htssfnxxfny udymts\n",
            "Hacking key is 3: jipmgmxexmsrw, giwev wivemx jmiv hi xsm, wm wiypiqirx mp gsrremwwemx tcxlsr\n",
            "Hacking key is 4: iholflwdwlrqv, fhvdu vhudlw ilhu gh wrl, vl vhxohphqw lo frqqdlvvdlw sbwkrq\n",
            "Hacking key is 5: hgnkekvcvkqpu, eguct ugtckv hkgt fg vqk, uk ugwngogpv kn eqppckuuckv ravjqp\n",
            "Hacking key is 6: gfmjdjubujpot, dftbs tfsbju gjfs ef upj, tj tfvmfnfou jm dpoobjttbju qzuipo\n",
            "Hacking key is 7: felicitations, cesar serait fier de toi, si seulement il connaissait python\n",
            "Hacking key is 8: edkhbhszshnmr, bdrzq rdqzhs ehdq cd snh, rh rdtkdldms hk bnmmzhrrzhs oxsgnm\n",
            "Hacking key is 9: dcjgagryrgmlq, acqyp qcpygr dgcp bc rmg, qg qcsjckclr gj amllygqqygr nwrfml\n",
            "Hacking key is 10: cbifzfqxqflkp, zbpxo pboxfq cfbo ab qlf, pf pbribjbkq fi zlkkxfppxfq mvqelk\n",
            "Hacking key is 11: baheyepwpekjo, yaown oanwep bean za pke, oe oaqhaiajp eh ykjjweoowep lupdkj\n",
            "Hacking key is 12: azgdxdovodjin, xznvm nzmvdo adzm yz ojd, nd nzpgzhzio dg xjiivdnnvdo ktocji\n",
            "Hacking key is 13: zyfcwcnuncihm, wymul mylucn zcyl xy nic, mc myofygyhn cf wihhucmmucn jsnbih\n",
            "Hacking key is 14: yxebvbmtmbhgl, vxltk lxktbm ybxk wx mhb, lb lxnexfxgm be vhggtblltbm irmahg\n",
            "Hacking key is 15: xwdaualslagfk, uwksj kwjsal xawj vw lga, ka kwmdwewfl ad ugffsakksal hqlzgf\n",
            "Hacking key is 16: wvcztzkrkzfej, tvjri jvirzk wzvi uv kfz, jz jvlcvdvek zc tfeerzjjrzk gpkyfe\n",
            "Hacking key is 17: vubysyjqjyedi, suiqh iuhqyj vyuh tu jey, iy iukbucudj yb seddqyiiqyj fojxed\n",
            "Hacking key is 18: utaxrxipixdch, rthpg htgpxi uxtg st idx, hx htjatbtci xa rdccpxhhpxi eniwdc\n",
            "Hacking key is 19: tszwqwhohwcbg, qsgof gsfowh twsf rs hcw, gw gsizsasbh wz qcbbowggowh dmhvcb\n",
            "Hacking key is 20: sryvpvgngvbaf, prfne frenvg svre qr gbv, fv frhyrzrag vy pbaanvffnvg clguba\n",
            "Hacking key is 21: rqxuoufmfuaze, oqemd eqdmuf ruqd pq fau, eu eqgxqyqzf ux oazzmueemuf bkftaz\n",
            "Hacking key is 22: qpwtnteletzyd, npdlc dpclte qtpc op ezt, dt dpfwpxpye tw nzyyltddlte ajeszy\n",
            "Hacking key is 23: povsmsdkdsyxc, mockb cobksd psob no dys, cs coevowoxd sv myxxksccksd zidryx\n",
            "Hacking key is 24: onurlrcjcrxwb, lnbja bnajrc orna mn cxr, br bndunvnwc ru lxwwjrbbjrc yhcqxw\n",
            "Hacking key is 25: nmtqkqbibqwva, kmaiz amziqb nqmz lm bwq, aq amctmumvb qt kwvviqaaiqb xgbpwv\n"
          ]
        }
      ]
    },
    {
      "cell_type": "markdown",
      "source": [
        "Avec cette méthode on voit que lorsque la clé est 7 le message est intelligible (donc correctement traduit)"
      ],
      "metadata": {
        "id": "xwYDnBX5FlJ4"
      }
    }
  ]
}